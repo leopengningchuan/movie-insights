{
 "cells": [
  {
   "cell_type": "code",
   "execution_count": null,
   "id": "60d2ae81-f458-406d-9238-01aaa527c679",
   "metadata": {},
   "outputs": [],
   "source": [
    "# import packages\n",
    "import pandas as pd\n",
    "\n",
    "import ast\n",
    "\n",
    "from sklearn.preprocessing import MultiLabelBinarizer\n",
    "\n",
    "import matplotlib.pyplot as plt\n",
    "import matplotlib.ticker as ticker"
   ]
  },
  {
   "cell_type": "code",
   "execution_count": null,
   "id": "3ed87470-0681-473d-b26e-ae825390cc4c",
   "metadata": {},
   "outputs": [],
   "source": [
    "# read datasets\n",
    "cleaned_data_path = 'cleaned_data/'\n",
    "\n",
    "movies_cleaned = pd.read_csv(cleaned_data_path + 'movies_cleaned.csv')\n",
    "\n",
    "genre_map = pd.read_excel(cleaned_data_path + 'movie_metadata_supporting.xlsx', sheet_name = 'genres')"
   ]
  },
  {
   "cell_type": "code",
   "execution_count": null,
   "id": "0454ce04-3322-4819-9c2a-7a2337f6efd3",
   "metadata": {},
   "outputs": [],
   "source": [
    "# read the columns as list and map the dict\n",
    "def col_list_map(original_data, mapping_dict):\n",
    "    try:\n",
    "        final_list = []\n",
    "        for item in original_data:\n",
    "            final_list.append(mapping_dict[item])\n",
    "        return final_list\n",
    "    except:\n",
    "        return None"
   ]
  },
  {
   "cell_type": "code",
   "execution_count": null,
   "id": "4b842e04-9d72-4099-959c-30faa2907ede",
   "metadata": {},
   "outputs": [],
   "source": [
    "# get dummy variables of genres\n",
    "movies_cleaned['release_year'] = pd.to_datetime(movies_cleaned['release_date'], errors='coerce').dt.year\n",
    "\n",
    "movies_cleaned['genre_list'] = movies_cleaned['genre_list'].apply(ast.literal_eval)\n",
    "\n",
    "movies_cleaned['genre_name_list'] = movies_cleaned['genre_list'].apply(lambda x: col_list_map(x, dict(zip(genre_map['id'], genre_map['name']))))\n",
    "\n",
    "mlb = MultiLabelBinarizer()\n",
    "genre_dummies = pd.DataFrame(\n",
    "    mlb.fit_transform(movies_cleaned['genre_name_list']),\n",
    "    columns = [f\"genre_{c}\" for c in mlb.classes_],\n",
    "    index = movies_cleaned.index\n",
    ")\n",
    "\n",
    "movies_cleaned = pd.concat([movies_cleaned, genre_dummies], axis=1)"
   ]
  },
  {
   "cell_type": "markdown",
   "id": "6fe00503-a27a-4e99-bffe-caa2a6ee0109",
   "metadata": {},
   "source": [
    "genre"
   ]
  },
  {
   "cell_type": "code",
   "execution_count": null,
   "id": "e840b2e8-0fa5-4558-bde9-ce5b41a41113",
   "metadata": {},
   "outputs": [],
   "source": [
    "# get the genre columns\n",
    "genre_columns = [col for col in movies_cleaned.columns if col.startswith('genre_') and 'name' not in col and 'list' not in col]\n",
    "\n",
    "# get the genre average votes dictionary\n",
    "genre_avg_votes = {\n",
    "    genre.split('_')[1]: movies_cleaned[movies_cleaned[genre] == 1]['vote_average'].mean()\n",
    "    for genre in genre_columns\n",
    "}\n",
    "\n",
    "# change the dictionary to dataframe\n",
    "genre_avg_df = pd.DataFrame.from_dict(genre_avg_votes, orient='index', columns=['avg_vote'])\n",
    "genre_avg_df = genre_avg_df.sort_values(by='avg_vote', ascending=False)\n",
    "\n",
    "# graph\n",
    "genre_avg_df.plot(kind='barh', figsize=(6, 4), legend=False)\n",
    "plt.title('Average Vote by Genre')\n",
    "plt.xlabel('Average Vote')\n",
    "plt.ylabel('Genre')\n",
    "plt.tight_layout()\n",
    "plt.show()"
   ]
  },
  {
   "cell_type": "markdown",
   "id": "4ead274b-d147-4a79-878a-4c59cd2c6a11",
   "metadata": {},
   "source": [
    "Release Year"
   ]
  },
  {
   "cell_type": "code",
   "execution_count": null,
   "id": "b20bc769-f3e9-4842-92b3-d9977cc9f2de",
   "metadata": {},
   "outputs": [],
   "source": [
    "# prepare the data\n",
    "year_count_df = pd.DataFrame.from_dict(dict(movies_cleaned.groupby('release_year').size()), orient='index', columns=['count'])\n",
    "year_vote_count_df = movies_cleaned.groupby('release_year').agg({'vote_count': 'sum'})\n",
    "\n",
    "# draw the graph\n",
    "fig, ax1 = plt.subplots(figsize=(6, 4))\n",
    "\n",
    "# left Axis：Movie Count\n",
    "ax1.set_xlabel('Year')\n",
    "ax1.set_ylabel('Movie Count', color = 'tab:blue')\n",
    "ax1.plot(year_count_df.index, year_count_df.values, color = 'tab:blue')\n",
    "ax1.tick_params(axis='y', labelcolor='tab:blue')\n",
    "\n",
    "# right Axis: Movie Votes\n",
    "ax2 = ax1.twinx()\n",
    "ax2.set_ylabel('Total Votes', color = 'tab:red')\n",
    "ax2.plot(year_vote_count_df.index, year_vote_count_df.values / 20, color = 'tab:red')\n",
    "ax2.tick_params(axis='y', labelcolor='tab:red')\n",
    "ax2.yaxis.set_major_formatter(ticker.FuncFormatter(lambda x, _: f'{int(x * 20):}'))\n",
    "\n",
    "# show the graph\n",
    "plt.title('Yearly Movie Count and Total Votes')\n",
    "plt.tight_layout()\n",
    "plt.show()"
   ]
  },
  {
   "cell_type": "code",
   "execution_count": null,
   "id": "ec257b87-4a63-4688-9de8-92bb829e9eec",
   "metadata": {},
   "outputs": [],
   "source": [
    "# movie rating by year\n",
    "year_movie_rating_df = pd.DataFrame.from_dict(movies_cleaned.groupby('release_year')['vote_average'].mean().to_dict(), orient='index', columns=['count'])\n",
    "\n",
    "# graph\n",
    "year_movie_rating_df.plot(kind='line', figsize=(6, 4), legend=False)\n",
    "plt.title('Movie Rating by Year')\n",
    "plt.xlabel('Year')\n",
    "plt.ylabel('Movie Rating')\n",
    "plt.tight_layout()\n",
    "plt.show()"
   ]
  },
  {
   "cell_type": "code",
   "execution_count": null,
   "id": "f88f586c-4510-465a-8ae1-fcce6b699d11",
   "metadata": {},
   "outputs": [],
   "source": []
  }
 ],
 "metadata": {
  "kernelspec": {
   "display_name": "Python 3 (ipykernel)",
   "language": "python",
   "name": "python3"
  },
  "language_info": {
   "codemirror_mode": {
    "name": "ipython",
    "version": 3
   },
   "file_extension": ".py",
   "mimetype": "text/x-python",
   "name": "python",
   "nbconvert_exporter": "python",
   "pygments_lexer": "ipython3",
   "version": "3.12.7"
  }
 },
 "nbformat": 4,
 "nbformat_minor": 5
}
