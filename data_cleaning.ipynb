{
 "cells": [
  {
   "cell_type": "code",
   "execution_count": null,
   "id": "774520f8",
   "metadata": {
    "ExecuteTime": {
     "end_time": "2025-05-16T13:47:42.581134Z",
     "start_time": "2025-05-16T13:47:42.575994Z"
    }
   },
   "outputs": [],
   "source": [
    "# import packages\n",
    "import pandas as pd\n",
    "from datetime import datetime\n",
    "\n",
    "import ast"
   ]
  },
  {
   "cell_type": "code",
   "execution_count": null,
   "id": "5eb8dd0f",
   "metadata": {
    "ExecuteTime": {
     "end_time": "2025-05-16T13:44:58.293978Z",
     "start_time": "2025-05-16T13:44:53.272152Z"
    }
   },
   "outputs": [],
   "source": [
    "# read the datasets\n",
    "movies_metadata = pd.read_csv('movies_metadata.csv')\n",
    "ratings = pd.read_csv('ratings.csv')\n",
    "links = pd.read_csv('links.csv')\n",
    "keywords = pd.read_csv('keywords.csv')\n",
    "credits = pd.read_csv('credits.csv')\n",
    "\n",
    "ratings['date_time'] = pd.to_datetime(ratings['timestamp'], unit='s')"
   ]
  },
  {
   "cell_type": "code",
   "execution_count": null,
   "id": "489b7ebf",
   "metadata": {
    "ExecuteTime": {
     "end_time": "2025-05-16T14:06:15.963075Z",
     "start_time": "2025-05-16T14:06:15.288564Z"
    }
   },
   "outputs": [],
   "source": [
    "# print the count of genres\n",
    "movies_metadata['genres_list'] = movies_metadata['genres'].apply(ast.literal_eval)\n",
    "\n",
    "all_genres = dict()\n",
    "for genre_list in movies_metadata['genres_list']:\n",
    "    for genre in genre_list:\n",
    "        if genre['name'] not in all_genres.keys():\n",
    "            all_genres[genre['name']] = 1\n",
    "        else:\n",
    "            all_genres[genre['name']] += 1\n",
    "\n",
    "print(f\"Total unique genres: {len(all_genres)}\")\n",
    "print(all_genres)"
   ]
  },
  {
   "cell_type": "code",
   "execution_count": null,
   "id": "ab32ef01",
   "metadata": {
    "ExecuteTime": {
     "end_time": "2025-05-16T14:12:24.019046Z",
     "start_time": "2025-05-16T14:12:24.015055Z"
    }
   },
   "outputs": [],
   "source": [
    "# print one time genre\n",
    "onetime_genres = []\n",
    "\n",
    "for genre in all_genres.keys():\n",
    "    if all_genres[genre] == 1:\n",
    "        onetime_genres.append(genre)\n",
    "  \n",
    "print(onetime_genres)"
   ]
  },
  {
   "cell_type": "code",
   "execution_count": null,
   "id": "bddbd71f",
   "metadata": {
    "ExecuteTime": {
     "end_time": "2025-05-16T14:10:27.170863Z",
     "start_time": "2025-05-16T14:10:26.623730Z"
    }
   },
   "outputs": [],
   "source": [
    "# get the dummy variables for genres\n",
    "for genre in all_genres.keys():\n",
    "    movies_metadata[f\"genre_{genre}\"] = movies_metadata['genres_list'].apply(\n",
    "        lambda x: int(any(g['name'] == genre for g in x))\n",
    "    )"
   ]
  },
  {
   "cell_type": "code",
   "execution_count": null,
   "id": "9d54ee0c",
   "metadata": {
    "ExecuteTime": {
     "end_time": "2025-05-16T14:13:10.886781Z",
     "start_time": "2025-05-16T14:13:10.863679Z"
    }
   },
   "outputs": [],
   "source": [
    "# \n",
    "movies_metadata = movies_metadata.drop([f\"genre_{genre}\" for genre in onetime_genres], axis = 1)"
   ]
  },
  {
   "cell_type": "code",
   "execution_count": null,
   "id": "cae375ea",
   "metadata": {},
   "outputs": [],
   "source": []
  },
  {
   "cell_type": "code",
   "execution_count": null,
   "id": "0e69b97e",
   "metadata": {},
   "outputs": [],
   "source": []
  },
  {
   "cell_type": "code",
   "execution_count": null,
   "id": "9b024ec0",
   "metadata": {},
   "outputs": [],
   "source": []
  },
  {
   "cell_type": "code",
   "execution_count": null,
   "id": "cb35ab4a",
   "metadata": {},
   "outputs": [],
   "source": []
  },
  {
   "cell_type": "code",
   "execution_count": null,
   "id": "3a6b03c6",
   "metadata": {},
   "outputs": [],
   "source": []
  },
  {
   "cell_type": "code",
   "execution_count": null,
   "id": "25ac129e",
   "metadata": {},
   "outputs": [],
   "source": []
  },
  {
   "cell_type": "code",
   "execution_count": null,
   "id": "ae1afcb0",
   "metadata": {},
   "outputs": [],
   "source": []
  },
  {
   "cell_type": "code",
   "execution_count": null,
   "id": "ed8c339e",
   "metadata": {},
   "outputs": [],
   "source": []
  },
  {
   "cell_type": "code",
   "execution_count": null,
   "id": "83daf774",
   "metadata": {},
   "outputs": [],
   "source": []
  },
  {
   "cell_type": "code",
   "execution_count": null,
   "id": "3a37c2a4",
   "metadata": {},
   "outputs": [],
   "source": []
  }
 ],
 "metadata": {
  "kernelspec": {
   "display_name": "Python 3 (ipykernel)",
   "language": "python",
   "name": "python3"
  },
  "language_info": {
   "codemirror_mode": {
    "name": "ipython",
    "version": 3
   },
   "file_extension": ".py",
   "mimetype": "text/x-python",
   "name": "python",
   "nbconvert_exporter": "python",
   "pygments_lexer": "ipython3",
   "version": "3.11.6"
  }
 },
 "nbformat": 4,
 "nbformat_minor": 5
}
