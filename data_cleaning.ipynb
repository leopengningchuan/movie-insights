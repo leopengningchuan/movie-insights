{
 "cells": [
  {
   "cell_type": "code",
   "execution_count": null,
   "id": "774520f8",
   "metadata": {
    "ExecuteTime": {
     "end_time": "2025-05-19T05:23:54.909599Z",
     "start_time": "2025-05-19T05:23:54.323938Z"
    }
   },
   "outputs": [],
   "source": [
    "# import packages\n",
    "import pandas as pd\n",
    "import numpy as np\n",
    "from datetime import datetime\n",
    "\n",
    "import ast"
   ]
  },
  {
   "cell_type": "code",
   "execution_count": null,
   "id": "5eb8dd0f",
   "metadata": {
    "ExecuteTime": {
     "end_time": "2025-05-19T05:24:00.157136Z",
     "start_time": "2025-05-19T05:23:54.910642Z"
    }
   },
   "outputs": [],
   "source": [
    "# read the datasets\n",
    "orginal_data_path = 'original_data/'\n",
    "\n",
    "movies_metadata = pd.read_csv(orginal_data_path + 'movies_metadata.csv')\n",
    "ratings = pd.read_csv(orginal_data_path + 'ratings.csv')\n",
    "links = pd.read_csv(orginal_data_path + 'links.csv')\n",
    "keywords = pd.read_csv(orginal_data_path + 'keywords.csv')\n",
    "credits = pd.read_csv(orginal_data_path + 'credits.csv')\n",
    "\n",
    "ratings['date_time'] = pd.to_datetime(ratings['timestamp'], unit='s')"
   ]
  },
  {
   "cell_type": "markdown",
   "id": "06df8002-908b-4394-90d4-64d50dfc635b",
   "metadata": {},
   "source": [
    "# movies_metadata"
   ]
  },
  {
   "cell_type": "code",
   "execution_count": null,
   "id": "96832625-fce7-4690-93d0-908d0b20bd5d",
   "metadata": {},
   "outputs": [],
   "source": [
    "def get_list_dict(original_list, name, type = 'list'):\n",
    "    if type == 'list':\n",
    "        try:\n",
    "            final_list = []\n",
    "            for item in ast.literal_eval(original_list):\n",
    "                final_list.append(item[name])\n",
    "            return final_list\n",
    "        except:\n",
    "            pass\n",
    "    elif type == 'dict':\n",
    "        try:\n",
    "            return ast.literal_eval(original_list)[name]\n",
    "        except:\n",
    "            pass "
   ]
  },
  {
   "cell_type": "code",
   "execution_count": null,
   "id": "de12bfa1-90ab-4762-a746-865d5e9051fa",
   "metadata": {},
   "outputs": [],
   "source": [
    "movies_metadata['lang_code_list'] = movies_metadata['spoken_languages'].apply(lambda x: get_list_dict(x, 'iso_639_1'))\n",
    "\n",
    "movies_metadata['pro_comp_list'] = movies_metadata['production_companies'].apply(lambda x: get_list_dict(x, 'name'))\n",
    "\n",
    "movies_metadata['pro_coun_list'] = movies_metadata['production_countries'].apply(lambda x: get_list_dict(x, 'iso_3166_1'))\n",
    "\n",
    "movies_metadata['genres_list'] = movies_metadata['genres'].apply(lambda x: get_list_dict(x, 'name'))\n",
    "\n",
    "movies_metadata['collection'] = movies_metadata['belongs_to_collection'].apply(lambda x: get_list_dict(x, 'id', 'dict'))"
   ]
  },
  {
   "cell_type": "code",
   "execution_count": null,
   "id": "28b687d3-5811-4e32-ac44-5add49e870d2",
   "metadata": {},
   "outputs": [],
   "source": []
  },
  {
   "cell_type": "code",
   "execution_count": null,
   "id": "2b37e61a-68f0-4c28-8262-60cfa80d94ef",
   "metadata": {},
   "outputs": [],
   "source": []
  },
  {
   "cell_type": "code",
   "execution_count": null,
   "id": "721b7f27-0924-4730-98e8-6ca1062ec270",
   "metadata": {},
   "outputs": [],
   "source": []
  },
  {
   "cell_type": "code",
   "execution_count": null,
   "id": "cea195bc-716e-4c1f-95bb-6ee4275fd33b",
   "metadata": {},
   "outputs": [],
   "source": []
  },
  {
   "cell_type": "code",
   "execution_count": null,
   "id": "9535a88f-9866-47da-b2fc-2a5961114221",
   "metadata": {},
   "outputs": [],
   "source": [
    "# print the count of languages\n",
    "lang_count_dict = dict()\n",
    "for lang_list in movies_metadata['lang_code']:\n",
    "    try:\n",
    "        for lang in lang_list:\n",
    "            if lang not in lang_count_dict.keys():\n",
    "                lang_count_dict[lang] = 1\n",
    "            else:\n",
    "                lang_count_dict[lang] += 1\n",
    "    except:\n",
    "        pass\n",
    "\n",
    "print(f\"Total unique languages: {len(lang_count_dict)}\")\n",
    "print(lang_count_dict)"
   ]
  },
  {
   "cell_type": "code",
   "execution_count": null,
   "id": "2ba998b1-ecaa-4d3e-86ee-d9a6b61a6925",
   "metadata": {},
   "outputs": [],
   "source": [
    "# print 100-time language\n",
    "onehundred_time_langs_list = []\n",
    "\n",
    "for lang in lang_count_dict.keys():\n",
    "    if lang_count_dict[lang] <= 100:\n",
    "        onehundred_time_langs_list.append(lang)\n",
    "\n",
    "print(onehundred_time_langs_list)"
   ]
  },
  {
   "cell_type": "markdown",
   "id": "2e24ffe7-86d2-429a-b90d-c8c5b7081ce2",
   "metadata": {},
   "source": [
    "Production Companies & Countries"
   ]
  },
  {
   "cell_type": "code",
   "execution_count": null,
   "id": "b9efc8c1-ee19-4b96-aeba-d54a8291dbe1",
   "metadata": {},
   "outputs": [],
   "source": [
    "# print the count of production companies\n",
    "pro_comp_count_dict = dict()\n",
    "for pro_comp_list in movies_metadata['pro_coun']:\n",
    "    try:\n",
    "        for pro_comp in pro_comp_list:\n",
    "            if pro_comp not in pro_comp_count_dict.keys():\n",
    "                pro_comp_count_dict[pro_comp] = 1\n",
    "            else:\n",
    "                pro_comp_count_dict[pro_comp] += 1\n",
    "    except:\n",
    "        pass\n",
    "\n",
    "print(f\"Total unique languages: {len(pro_comp_count_dict)}\")\n",
    "print(pro_comp_count_dict)"
   ]
  },
  {
   "cell_type": "markdown",
   "id": "621ee102-1bf0-492d-9375-1f8ce882eac2",
   "metadata": {},
   "source": [
    "Genre"
   ]
  },
  {
   "cell_type": "code",
   "execution_count": null,
   "id": "0883c066-97cc-4cbf-b169-cf400a27b747",
   "metadata": {},
   "outputs": [],
   "source": [
    "# clean the genres\n",
    "movies_metadata['genres_list'] = movies_metadata['genres'].apply(ast.literal_eval)"
   ]
  },
  {
   "cell_type": "code",
   "execution_count": null,
   "id": "4e90d456-f8d8-4a64-b086-41114064de07",
   "metadata": {},
   "outputs": [],
   "source": [
    "# print the count of genres\n",
    "all_genres = dict()\n",
    "for genre_list in movies_metadata['genres_list']:\n",
    "    for genre in genre_list:\n",
    "        if genre['name'] not in all_genres.keys():\n",
    "            all_genres[genre['name']] = 1\n",
    "        else:\n",
    "            all_genres[genre['name']] += 1\n",
    "\n",
    "print(f\"Total unique genres: {len(all_genres)}\")\n",
    "print(all_genres)"
   ]
  },
  {
   "cell_type": "code",
   "execution_count": null,
   "id": "ab32ef01",
   "metadata": {
    "ExecuteTime": {
     "end_time": "2025-05-19T05:24:00.779304Z",
     "start_time": "2025-05-19T05:24:00.777580Z"
    }
   },
   "outputs": [],
   "source": [
    "# print one-time genre\n",
    "onetime_genres = []\n",
    "\n",
    "for genre in all_genres.keys():\n",
    "    if all_genres[genre] == 1:\n",
    "        onetime_genres.append(genre)\n",
    "  \n",
    "print(onetime_genres)"
   ]
  },
  {
   "cell_type": "code",
   "execution_count": null,
   "id": "bddbd71f",
   "metadata": {
    "ExecuteTime": {
     "end_time": "2025-05-19T05:24:01.313515Z",
     "start_time": "2025-05-19T05:24:00.779952Z"
    }
   },
   "outputs": [],
   "source": [
    "# get the dummy variables for genres\n",
    "for genre in all_genres.keys():\n",
    "    movies_metadata[f\"genre_{genre}\"] = movies_metadata['genres_list'].apply(\n",
    "        lambda x: int(any(g['name'] == genre for g in x))\n",
    "    )\n",
    "   \n",
    "# remove the one-time genre dummy variable\n",
    "movies_metadata = movies_metadata.drop([f\"genre_{genre}\" for genre in onetime_genres], axis = 1)"
   ]
  },
  {
   "cell_type": "code",
   "execution_count": null,
   "id": "2fa0ca01",
   "metadata": {
    "ExecuteTime": {
     "end_time": "2025-05-19T05:24:01.456955Z",
     "start_time": "2025-05-19T05:24:01.314349Z"
    }
   },
   "outputs": [],
   "source": []
  },
  {
   "cell_type": "markdown",
   "id": "ceae964f",
   "metadata": {
    "ExecuteTime": {
     "end_time": "2025-05-19T05:22:21.879797Z",
     "start_time": "2025-05-19T05:22:21.874302Z"
    }
   },
   "source": []
  },
  {
   "cell_type": "code",
   "execution_count": null,
   "id": "cae375ea",
   "metadata": {
    "ExecuteTime": {
     "end_time": "2025-05-19T05:24:01.472294Z",
     "start_time": "2025-05-19T05:24:01.457649Z"
    }
   },
   "outputs": [],
   "source": []
  },
  {
   "cell_type": "code",
   "execution_count": null,
   "id": "0e73c815-6263-469b-93ce-9de2544f0b0e",
   "metadata": {},
   "outputs": [],
   "source": []
  },
  {
   "cell_type": "code",
   "execution_count": null,
   "id": "1398bad3-d01e-4c86-931f-8be3d696ff05",
   "metadata": {},
   "outputs": [],
   "source": []
  },
  {
   "cell_type": "code",
   "execution_count": null,
   "id": "9a5dc023-3592-4b9e-a2f1-caa94c348469",
   "metadata": {},
   "outputs": [],
   "source": []
  },
  {
   "cell_type": "code",
   "execution_count": null,
   "id": "08aad053-0979-4ea5-9b20-8940b04f26c8",
   "metadata": {},
   "outputs": [],
   "source": []
  },
  {
   "cell_type": "code",
   "execution_count": null,
   "id": "75d8f22c-eeb6-4484-966b-a395a324d78d",
   "metadata": {},
   "outputs": [],
   "source": []
  },
  {
   "cell_type": "markdown",
   "id": "fa7d7790-a8bf-4cf9-a8b3-c494b6da5a6b",
   "metadata": {},
   "source": [
    "Save csv file"
   ]
  },
  {
   "cell_type": "code",
   "execution_count": null,
   "id": "92eb5c59-340b-41a9-8800-6582e5c785c1",
   "metadata": {},
   "outputs": [],
   "source": [
    "movies_metadata.to_csv('movies_cleaned.csv', index=False)"
   ]
  },
  {
   "cell_type": "code",
   "execution_count": null,
   "id": "67125bb2-91e7-452d-ab10-4e2f103046d7",
   "metadata": {},
   "outputs": [],
   "source": []
  },
  {
   "cell_type": "code",
   "execution_count": null,
   "id": "999d7b8b-f914-4078-b851-d3379ec39df0",
   "metadata": {},
   "outputs": [],
   "source": []
  }
 ],
 "metadata": {
  "kernelspec": {
   "display_name": "Python 3 (ipykernel)",
   "language": "python",
   "name": "python3"
  },
  "language_info": {
   "codemirror_mode": {
    "name": "ipython",
    "version": 3
   },
   "file_extension": ".py",
   "mimetype": "text/x-python",
   "name": "python",
   "nbconvert_exporter": "python",
   "pygments_lexer": "ipython3",
   "version": "3.12.7"
  }
 },
 "nbformat": 4,
 "nbformat_minor": 5
}
