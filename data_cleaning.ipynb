{
 "cells": [
  {
   "cell_type": "code",
   "execution_count": 1,
   "id": "7109c855-1e25-4d78-91db-47a5e2706be0",
   "metadata": {},
   "outputs": [],
   "source": [
    "# import packages\n",
    "import pandas as pd\n",
    "import numpy as np\n",
    "from datetime import datetime\n",
    "\n",
    "import ast\n",
    "from itertools import chain"
   ]
  },
  {
   "cell_type": "code",
   "execution_count": 2,
   "id": "b731a998-245e-49a5-80c2-95f7bc58d7b5",
   "metadata": {},
   "outputs": [
    {
     "name": "stderr",
     "output_type": "stream",
     "text": [
      "/var/folders/mm/y8jmnzmd7xz1h127ngp83ddw0000gn/T/ipykernel_8241/405877262.py:5: DtypeWarning: Columns (10) have mixed types. Specify dtype option on import or set low_memory=False.\n",
      "  movies_metadata = pd.read_csv(orginal_data_path + 'movies_metadata.csv')\n"
     ]
    }
   ],
   "source": [
    "# read the datasets\n",
    "orginal_data_path = 'original_data/'\n",
    "\n",
    "# for movies_metadata\n",
    "movies_metadata = pd.read_csv(orginal_data_path + 'movies_metadata.csv')\n",
    "keywords = pd.read_csv(orginal_data_path + 'keywords.csv')\n",
    "credits = pd.read_csv(orginal_data_path + 'credits.csv')\n",
    "\n",
    "# for rating_small\n",
    "ratings_small = pd.read_csv(orginal_data_path + 'ratings_small.csv')\n",
    "links = pd.read_csv(orginal_data_path + 'links.csv')"
   ]
  },
  {
   "cell_type": "markdown",
   "id": "e5c4cea0-53fa-446b-ba23-8494ecb523be",
   "metadata": {},
   "source": [
    "# movies_metadata"
   ]
  },
  {
   "cell_type": "code",
   "execution_count": 3,
   "id": "9ae9c331-b575-40fd-840d-a7b8487cd9fa",
   "metadata": {},
   "outputs": [],
   "source": [
    "# general data type cleaning\n",
    "movies_metadata = movies_metadata[movies_metadata['adult'].isin(['True', 'False'])]\n",
    "movies_metadata['id'] = movies_metadata['id'].astype(int)\n",
    "movies_metadata['popularity'] = movies_metadata['popularity'].astype(float)\n",
    "movies_metadata['release_date'] = pd.to_datetime(movies_metadata['release_date'], errors='coerce')\n",
    "\n",
    "movies_metadata['adult'] = movies_metadata['adult'].map({'True': True, 'False': False})\n",
    "\n",
    "movies_metadata['budget'] = movies_metadata['budget'].astype(int)\n",
    "for col in ['budget', 'revenue', 'vote_average', 'vote_count']:\n",
    "    movies_metadata[col] = movies_metadata[col].replace(0, None)"
   ]
  },
  {
   "cell_type": "code",
   "execution_count": 4,
   "id": "cd7f5c32-cbbb-455f-8b54-cbd0ec14ba8f",
   "metadata": {},
   "outputs": [],
   "source": [
    "# map information in keywords and credits: keywords, cast, crew\n",
    "movies_metadata['keywords'] = movies_metadata['id'].map(dict(zip(keywords['id'], keywords['keywords'])))\n",
    "movies_metadata['cast'] = movies_metadata['id'].map(dict(zip(credits['id'], credits['cast'])))\n",
    "movies_metadata['crew'] = movies_metadata['id'].map(dict(zip(credits['id'], credits['crew'])))"
   ]
  },
  {
   "cell_type": "code",
   "execution_count": 5,
   "id": "84d2b01b-01b2-48ec-976b-8d2b00b82247",
   "metadata": {},
   "outputs": [],
   "source": [
    "# read the columns as list and dict, not str\n",
    "def get_list_dict(original_data):\n",
    "    try:\n",
    "        return ast.literal_eval(original_data)\n",
    "    except:\n",
    "        return None\n",
    "\n",
    "\n",
    "for col in ['belongs_to_collection', 'spoken_languages', 'production_companies', \n",
    "            'production_countries', 'genres', 'keywords', 'cast', 'crew']:\n",
    "    movies_metadata[col] = movies_metadata[col].apply(get_list_dict)"
   ]
  },
  {
   "cell_type": "code",
   "execution_count": 6,
   "id": "7b68bb06-1036-42a0-b036-a6933e79ad02",
   "metadata": {},
   "outputs": [],
   "source": [
    "movies_metadata['belongs_to_collection'] = movies_metadata['belongs_to_collection'].apply(lambda x: [x] if isinstance(x, dict) else [])"
   ]
  },
  {
   "cell_type": "code",
   "execution_count": 7,
   "id": "597cf187-7e09-4690-8f30-98feac81c1cc",
   "metadata": {},
   "outputs": [
    {
     "name": "stdout",
     "output_type": "stream",
     "text": [
      "Total unique belongs_to_collection: 1695\n",
      "Total unique spoken_languages: 133\n",
      "Total unique production_companies: 23692\n",
      "Total unique production_countries: 161\n",
      "Total unique genres: 20\n",
      "Total unique keywords: 19956\n",
      "Total unique cast: 562044\n",
      "Total unique crew: 463836\n"
     ]
    }
   ],
   "source": [
    "# simplify the columns, only add id as the list\n",
    "def get_keys(original_list, read_key):\n",
    "    final_list = []\n",
    "    try:\n",
    "        for item in original_list:\n",
    "            final_list.append(item[read_key])\n",
    "        return final_list\n",
    "    except:\n",
    "        pass\n",
    "\n",
    "col_dict = {\n",
    "   'belongs_to_collection': ['collection', 'id'],\n",
    "    'spoken_languages': ['lang_code_list', 'iso_639_1'],\n",
    "    'production_companies': ['pro_comp_list', 'id'],\n",
    "    'production_countries': ['pro_coun_list', 'iso_3166_1'],\n",
    "    'genres': ['genre_list', 'id'],\n",
    "    'keywords': ['keywords_list', 'id'],\n",
    "    'cast': ['cast_id', 'id'],\n",
    "    'crew': ['crew_list', 'credit_id']\n",
    "}\n",
    "\n",
    "supporting_df_dict = {}\n",
    "\n",
    "for key in col_dict:\n",
    "    col_name, col_list_name, read_key = key, col_dict[key][0], col_dict[key][1]\n",
    "    \n",
    "    movies_metadata[col_list_name] = movies_metadata[col_name].apply(lambda x: get_keys(x, read_key))\n",
    "\n",
    "    df = pd.DataFrame(list(chain.from_iterable([row for row in movies_metadata[col_name] if isinstance(row, list)]))).\\\n",
    "    drop_duplicates().sort_values(read_key).reset_index(drop=True)\n",
    "\n",
    "    supporting_df_dict[col_name] = df\n",
    "    \n",
    "    print(f\"Total unique {col_name}: {df.shape[0]}\")"
   ]
  },
  {
   "cell_type": "code",
   "execution_count": 8,
   "id": "cb9f14d0-e60b-4a94-abd0-576055bd2ef5",
   "metadata": {},
   "outputs": [],
   "source": [
    "# put supporting as excel file\n",
    "with pd.ExcelWriter('movie_metadata_supporting.xlsx', engine='openpyxl') as writer:\n",
    "\n",
    "    for sheet_name, df in supporting_df_dict.items():\n",
    "        df.to_excel(writer, sheet_name = sheet_name, index = False)"
   ]
  },
  {
   "cell_type": "code",
   "execution_count": 9,
   "id": "68ca61c5-d1cd-49da-b635-77d9231fdf83",
   "metadata": {},
   "outputs": [],
   "source": [
    "# change collecton to float, not list\n",
    "movies_metadata['collection'] = movies_metadata['collection'].apply(lambda x: x[0] if x != [] else None)"
   ]
  },
  {
   "cell_type": "code",
   "execution_count": 10,
   "id": "0005dc72-a5d7-4afd-a228-2cef7d524a2d",
   "metadata": {},
   "outputs": [],
   "source": [
    "# drop unnecessary columns\n",
    "movies_metadata = movies_metadata.drop(col_dict.keys(), axis = 1)"
   ]
  },
  {
   "cell_type": "code",
   "execution_count": 11,
   "id": "9d9aa582-a35b-4bfe-a4fb-39b8854de63a",
   "metadata": {},
   "outputs": [],
   "source": [
    "# save files as csv\n",
    "movies_metadata.to_csv('movies_cleaned.csv', index=False)"
   ]
  },
  {
   "cell_type": "markdown",
   "id": "5eeb5f9c-27e8-4b95-b521-41983f0fd2ac",
   "metadata": {},
   "source": [
    "# ratings_small"
   ]
  },
  {
   "cell_type": "code",
   "execution_count": 12,
   "id": "58ae42a5-1b8c-4c61-a1cf-f21451bed6fe",
   "metadata": {},
   "outputs": [],
   "source": [
    "# general data type cleaning\n",
    "ratings_small['date_time'] = pd.to_datetime(ratings_small['timestamp'], unit='s')\n",
    "links['imdb_id'] = links['imdbId'].apply(lambda x: f\"tt{int(x):07d}\" if pd.notnull(x) else None)\n",
    "ratings_small['imdb_id'] = ratings_small['movieId'].map(dict(zip(links['movieId'], links['imdb_id'])))"
   ]
  },
  {
   "cell_type": "code",
   "execution_count": 13,
   "id": "a284c88d-0b26-4224-bfd0-ba589d8816c9",
   "metadata": {},
   "outputs": [],
   "source": [
    "used_cols = ['user_id', 'movie_id', 'imdb_id', 'date_time']\n",
    "ratings_small = ratings_small.rename(columns = {'userId': 'user_id', 'movieId': 'movie_id'})[used_cols]"
   ]
  },
  {
   "cell_type": "code",
   "execution_count": 14,
   "id": "bbbaea4c-e1f5-48c0-bd84-be929aea4789",
   "metadata": {},
   "outputs": [],
   "source": [
    "# save files as csv\n",
    "movies_metadata.to_csv('ratings_small_cleaned.csv', index=False)"
   ]
  },
  {
   "cell_type": "code",
   "execution_count": null,
   "id": "12d59f50-0e1c-40b9-a6fc-1d7fefb886b6",
   "metadata": {},
   "outputs": [],
   "source": []
  }
 ],
 "metadata": {
  "kernelspec": {
   "display_name": "Python 3 (ipykernel)",
   "language": "python",
   "name": "python3"
  },
  "language_info": {
   "codemirror_mode": {
    "name": "ipython",
    "version": 3
   },
   "file_extension": ".py",
   "mimetype": "text/x-python",
   "name": "python",
   "nbconvert_exporter": "python",
   "pygments_lexer": "ipython3",
   "version": "3.12.7"
  }
 },
 "nbformat": 4,
 "nbformat_minor": 5
}
