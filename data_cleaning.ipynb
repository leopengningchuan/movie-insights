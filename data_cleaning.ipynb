{
 "cells": [
  {
   "cell_type": "code",
   "execution_count": null,
   "id": "774520f8",
   "metadata": {
    "ExecuteTime": {
     "end_time": "2025-05-19T05:23:54.909599Z",
     "start_time": "2025-05-19T05:23:54.323938Z"
    }
   },
   "outputs": [],
   "source": [
    "# import packages\n",
    "import pandas as pd\n",
    "import numpy as np\n",
    "from datetime import datetime\n",
    "\n",
    "import ast"
   ]
  },
  {
   "cell_type": "code",
   "execution_count": null,
   "id": "5eb8dd0f",
   "metadata": {
    "ExecuteTime": {
     "end_time": "2025-05-19T05:24:00.157136Z",
     "start_time": "2025-05-19T05:23:54.910642Z"
    }
   },
   "outputs": [],
   "source": [
    "# read the datasets\n",
    "orginal_data_path = 'original_data/'\n",
    "\n",
    "movies_metadata = pd.read_csv(orginal_data_path + 'movies_metadata.csv')\n",
    "ratings = pd.read_csv(orginal_data_path + 'ratings.csv')\n",
    "links = pd.read_csv(orginal_data_path + 'links.csv')\n",
    "keywords = pd.read_csv(orginal_data_path + 'keywords.csv')\n",
    "credits = pd.read_csv(orginal_data_path + 'credits.csv')\n",
    "\n",
    "ratings['date_time'] = pd.to_datetime(ratings['timestamp'], unit='s')"
   ]
  },
  {
   "cell_type": "markdown",
   "id": "06df8002-908b-4394-90d4-64d50dfc635b",
   "metadata": {},
   "source": [
    "# movies_metadata"
   ]
  },
  {
   "cell_type": "code",
   "execution_count": null,
   "id": "9230d771-3e7c-49fb-8cb7-667082bd35cd",
   "metadata": {},
   "outputs": [],
   "source": [
    "# general data type cleaning\n",
    "movies_metadata = movies_metadata[movies_metadata['adult'].isin(['True', 'False'])]\n",
    "movies_metadata['id'] = movies_metadata['id'].astype(int)\n",
    "movies_metadata['popularity'] = movies_metadata['popularity'].astype(float)\n",
    "movies_metadata['release_date'] = pd.to_datetime(movies_metadata['release_date'], errors='coerce')\n",
    "\n",
    "movies_metadata['adult'] = movies_metadata['adult'].map({'True': True, 'False': False})\n",
    "\n",
    "movies_metadata['budget'] = movies_metadata['budget'].astype(int)\n",
    "for col in ['budget', 'revenue', 'vote_average', 'vote_count']:\n",
    "    movies_metadata[col] = movies_metadata[col].replace(0, None)"
   ]
  },
  {
   "cell_type": "code",
   "execution_count": null,
   "id": "96832625-fce7-4690-93d0-908d0b20bd5d",
   "metadata": {},
   "outputs": [],
   "source": [
    "def get_list_dict(original_list, name, type = 'list'):\n",
    "    if type == 'list':\n",
    "        try:\n",
    "            final_list = []\n",
    "            for item in ast.literal_eval(original_list):\n",
    "                final_list.append(item[name])\n",
    "            return final_list\n",
    "        except:\n",
    "            pass\n",
    "    elif type == 'dict':\n",
    "        try:\n",
    "            return ast.literal_eval(original_list)[name]\n",
    "        except:\n",
    "            pass "
   ]
  },
  {
   "cell_type": "code",
   "execution_count": null,
   "id": "2bffe93d-9c05-4b34-91d5-4e29c3bea16a",
   "metadata": {},
   "outputs": [],
   "source": [
    "def count_times(column_list, re = False):\n",
    "    if isinstance(column_list[0], list):\n",
    "        count_dict = dict()\n",
    "        for cell_list in column_list:\n",
    "            try:\n",
    "                for item in cell_list:\n",
    "                    if item not in count_dict.keys():\n",
    "                        count_dict[item] = 1\n",
    "                    else:\n",
    "                        count_dict[item] += 1\n",
    "            except:\n",
    "                pass\n",
    "        final = len(count_dict)        \n",
    "        \n",
    "    else:\n",
    "        final = len(column_list.unique())\n",
    "    \n",
    "    \n",
    "    print(f\"Total unique {column_list.name}: {final}\")\n",
    "\n",
    "    if re == True:\n",
    "        return count_dict"
   ]
  },
  {
   "cell_type": "code",
   "execution_count": null,
   "id": "2ba998b1-ecaa-4d3e-86ee-d9a6b61a6925",
   "metadata": {},
   "outputs": [],
   "source": [
    "# # print 100-time language\n",
    "# onehundred_time_langs_list = []\n",
    "\n",
    "# for lang in lang_count_dict.keys():\n",
    "#     if lang_count_dict[lang] <= 100:\n",
    "#         onehundred_time_langs_list.append(lang)\n",
    "\n",
    "# print(onehundred_time_langs_list)"
   ]
  },
  {
   "cell_type": "markdown",
   "id": "fbf5f0d6-59a9-4cf6-bdff-38cb073217bd",
   "metadata": {},
   "source": [
    "## Spoken Languages"
   ]
  },
  {
   "cell_type": "code",
   "execution_count": null,
   "id": "3ff32db3-a2b4-4d47-80cc-cb640270fd00",
   "metadata": {},
   "outputs": [],
   "source": [
    "movies_metadata['lang_code_list'] = movies_metadata['spoken_languages'].apply(lambda x: get_list_dict(x, 'iso_639_1'))\n",
    "\n",
    "count_times(movies_metadata['lang_code_list'])"
   ]
  },
  {
   "cell_type": "markdown",
   "id": "094a45b0-6f27-44a1-9d92-2b04a362b044",
   "metadata": {},
   "source": [
    "## Production Companies"
   ]
  },
  {
   "cell_type": "code",
   "execution_count": null,
   "id": "bb2a81f9-ac39-4d56-b4a2-dc379d9b6f14",
   "metadata": {},
   "outputs": [],
   "source": [
    "movies_metadata['pro_comp_list'] = movies_metadata['production_companies'].apply(lambda x: get_list_dict(x, 'name'))\n",
    "\n",
    "count_times(movies_metadata['pro_comp_list'])"
   ]
  },
  {
   "cell_type": "markdown",
   "id": "3078bf22-5d5f-400f-96ac-d302622e8f0a",
   "metadata": {},
   "source": [
    "## Production Countries"
   ]
  },
  {
   "cell_type": "code",
   "execution_count": null,
   "id": "314298a4-4062-4f17-a52a-949a91136213",
   "metadata": {},
   "outputs": [],
   "source": [
    "movies_metadata['pro_coun_list'] = movies_metadata['production_countries'].apply(lambda x: get_list_dict(x, 'iso_3166_1'))\n",
    "\n",
    "count_times(movies_metadata['pro_coun_list'])"
   ]
  },
  {
   "cell_type": "markdown",
   "id": "ba7f2ef7-f3b7-4ac3-b8f1-91801fbb778e",
   "metadata": {},
   "source": [
    "## Belongs to Collection"
   ]
  },
  {
   "cell_type": "code",
   "execution_count": null,
   "id": "5a5173f5-46fd-49b6-805f-a95cb291cc57",
   "metadata": {},
   "outputs": [],
   "source": [
    "movies_metadata['collection'] = movies_metadata['belongs_to_collection'].apply(lambda x: get_list_dict(x, 'id', 'dict'))\n",
    "\n",
    "count_times(movies_metadata['collection'])"
   ]
  },
  {
   "cell_type": "markdown",
   "id": "621ee102-1bf0-492d-9375-1f8ce882eac2",
   "metadata": {},
   "source": [
    "## Genre"
   ]
  },
  {
   "cell_type": "code",
   "execution_count": null,
   "id": "92df8c3c-5ca6-4866-94c4-877890b2b0e6",
   "metadata": {},
   "outputs": [],
   "source": [
    "movies_metadata['genre_list'] = movies_metadata['genres'].apply(lambda x: get_list_dict(x, 'name'))\n",
    "\n",
    "all_genres = count_times(movies_metadata['genre_list'], re = True)"
   ]
  },
  {
   "cell_type": "code",
   "execution_count": null,
   "id": "ab32ef01",
   "metadata": {
    "ExecuteTime": {
     "end_time": "2025-05-19T05:24:00.779304Z",
     "start_time": "2025-05-19T05:24:00.777580Z"
    }
   },
   "outputs": [],
   "source": [
    "# print one-time genre\n",
    "onetime_genres = []\n",
    "\n",
    "for genre in all_genres.keys():\n",
    "    if all_genres[genre] == 1:\n",
    "        onetime_genres.append(genre)\n",
    "  \n",
    "print(onetime_genres)"
   ]
  },
  {
   "cell_type": "code",
   "execution_count": null,
   "id": "606d36bc-189e-4c3a-aa83-a5ebfdb0d7d5",
   "metadata": {},
   "outputs": [],
   "source": [
    "# get the dummy variables for genres\n",
    "for genre in all_genres:\n",
    "    movies_metadata[f\"genre_{genre}\"] = movies_metadata['genre_list'].apply(\n",
    "        lambda x: int(genre in x)\n",
    "    )\n",
    "\n",
    "# remove the one-time genre dummy variable\n",
    "movies_metadata = movies_metadata.drop([f\"genre_{genre}\" for genre in onetime_genres], axis = 1)"
   ]
  },
  {
   "cell_type": "markdown",
   "id": "a971fb70-50db-45de-8049-9ef34d77a083",
   "metadata": {},
   "source": [
    "## Save as .csv File"
   ]
  },
  {
   "cell_type": "code",
   "execution_count": null,
   "id": "86d86e39-4921-43b3-9c03-d11c144e5b41",
   "metadata": {},
   "outputs": [],
   "source": [
    "drop_list = ['spoken_languages', 'production_companies', 'production_countries', 'belongs_to_collection', 'genres']\n",
    "movies_metadata = movies_metadata.drop(drop_list, axis = 1)"
   ]
  },
  {
   "cell_type": "code",
   "execution_count": null,
   "id": "ab13ae00-6028-43cb-8116-295db6d71e1a",
   "metadata": {},
   "outputs": [],
   "source": [
    "movies_metadata.to_csv('movies_cleaned.csv', index=False)"
   ]
  },
  {
   "cell_type": "code",
   "execution_count": null,
   "id": "f69c0490-a205-4548-97f0-bf2882985d51",
   "metadata": {},
   "outputs": [],
   "source": []
  }
 ],
 "metadata": {
  "kernelspec": {
   "display_name": "Python 3 (ipykernel)",
   "language": "python",
   "name": "python3"
  },
  "language_info": {
   "codemirror_mode": {
    "name": "ipython",
    "version": 3
   },
   "file_extension": ".py",
   "mimetype": "text/x-python",
   "name": "python",
   "nbconvert_exporter": "python",
   "pygments_lexer": "ipython3",
   "version": "3.12.7"
  }
 },
 "nbformat": 4,
 "nbformat_minor": 5
}
