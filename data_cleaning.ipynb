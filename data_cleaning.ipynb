{
 "cells": [
  {
   "cell_type": "code",
   "execution_count": null,
   "id": "774520f8",
   "metadata": {
    "ExecuteTime": {
     "end_time": "2025-05-19T05:23:54.909599Z",
     "start_time": "2025-05-19T05:23:54.323938Z"
    }
   },
   "outputs": [],
   "source": [
    "# import packages\n",
    "import pandas as pd\n",
    "from datetime import datetime\n",
    "\n",
    "import ast\n",
    "\n",
    "import matplotlib.pyplot as plt\n",
    "import matplotlib.ticker as ticker"
   ]
  },
  {
   "cell_type": "code",
   "execution_count": null,
   "id": "5eb8dd0f",
   "metadata": {
    "ExecuteTime": {
     "end_time": "2025-05-19T05:24:00.157136Z",
     "start_time": "2025-05-19T05:23:54.910642Z"
    }
   },
   "outputs": [],
   "source": [
    "# read the datasets\n",
    "orginal_data_path = 'original_data/'\n",
    "\n",
    "movies_metadata = pd.read_csv(orginal_data_path + 'movies_metadata.csv')\n",
    "ratings = pd.read_csv(orginal_data_path + 'ratings.csv')\n",
    "links = pd.read_csv(orginal_data_path + 'links.csv')\n",
    "keywords = pd.read_csv(orginal_data_path + 'keywords.csv')\n",
    "credits = pd.read_csv(orginal_data_path + 'credits.csv')\n",
    "\n",
    "ratings['date_time'] = pd.to_datetime(ratings['timestamp'], unit='s')"
   ]
  },
  {
   "cell_type": "markdown",
   "id": "3c678300",
   "metadata": {},
   "source": [
    "Genre"
   ]
  },
  {
   "cell_type": "code",
   "execution_count": null,
   "id": "489b7ebf",
   "metadata": {
    "ExecuteTime": {
     "end_time": "2025-05-19T05:24:00.776229Z",
     "start_time": "2025-05-19T05:24:00.158808Z"
    }
   },
   "outputs": [],
   "source": [
    "# print the count of genres\n",
    "movies_metadata['genres_list'] = movies_metadata['genres'].apply(ast.literal_eval)\n",
    "\n",
    "all_genres = dict()\n",
    "for genre_list in movies_metadata['genres_list']:\n",
    "    for genre in genre_list:\n",
    "        if genre['name'] not in all_genres.keys():\n",
    "            all_genres[genre['name']] = 1\n",
    "        else:\n",
    "            all_genres[genre['name']] += 1\n",
    "\n",
    "print(f\"Total unique genres: {len(all_genres)}\")\n",
    "print(all_genres)"
   ]
  },
  {
   "cell_type": "code",
   "execution_count": null,
   "id": "ab32ef01",
   "metadata": {
    "ExecuteTime": {
     "end_time": "2025-05-19T05:24:00.779304Z",
     "start_time": "2025-05-19T05:24:00.777580Z"
    }
   },
   "outputs": [],
   "source": [
    "# print one-time genre\n",
    "onetime_genres = []\n",
    "\n",
    "for genre in all_genres.keys():\n",
    "    if all_genres[genre] == 1:\n",
    "        onetime_genres.append(genre)\n",
    "  \n",
    "print(onetime_genres)"
   ]
  },
  {
   "cell_type": "code",
   "execution_count": null,
   "id": "bddbd71f",
   "metadata": {
    "ExecuteTime": {
     "end_time": "2025-05-19T05:24:01.313515Z",
     "start_time": "2025-05-19T05:24:00.779952Z"
    }
   },
   "outputs": [],
   "source": [
    "# get the dummy variables for genres\n",
    "for genre in all_genres.keys():\n",
    "    movies_metadata[f\"genre_{genre}\"] = movies_metadata['genres_list'].apply(\n",
    "        lambda x: int(any(g['name'] == genre for g in x))\n",
    "    )\n",
    "   \n",
    "# remove the one-time genre dummy variable\n",
    "movies_metadata = movies_metadata.drop([f\"genre_{genre}\" for genre in onetime_genres], axis = 1)"
   ]
  },
  {
   "cell_type": "code",
   "execution_count": null,
   "id": "2fa0ca01",
   "metadata": {
    "ExecuteTime": {
     "end_time": "2025-05-19T05:24:01.456955Z",
     "start_time": "2025-05-19T05:24:01.314349Z"
    }
   },
   "outputs": [],
   "source": [
    "# get the genre columns\n",
    "genre_columns = [col for col in movies_metadata.columns if col.startswith('genre_')]\n",
    "\n",
    "# get the genre average votes dictionary\n",
    "genre_avg_votes = {\n",
    "    genre.split('_')[1]: movies_metadata[movies_metadata[genre] == 1]['vote_average'].mean()\n",
    "    for genre in genre_columns\n",
    "}\n",
    "\n",
    "# change the dictionary to dataframe\n",
    "genre_avg_df = pd.DataFrame.from_dict(genre_avg_votes, orient='index', columns=['avg_vote'])\n",
    "genre_avg_df = genre_avg_df.sort_values(by='avg_vote', ascending=False)\n",
    "\n",
    "# graph\n",
    "genre_avg_df.plot(kind='barh', figsize=(6, 4), legend=False)\n",
    "plt.title('Average Vote by Genre')\n",
    "plt.xlabel('Average Vote')\n",
    "plt.ylabel('Genre')\n",
    "plt.tight_layout()\n",
    "plt.show()"
   ]
  },
  {
   "cell_type": "markdown",
   "id": "ceae964f",
   "metadata": {
    "ExecuteTime": {
     "end_time": "2025-05-19T05:22:21.879797Z",
     "start_time": "2025-05-19T05:22:21.874302Z"
    }
   },
   "source": [
    "Release Year"
   ]
  },
  {
   "cell_type": "code",
   "execution_count": null,
   "id": "cae375ea",
   "metadata": {
    "ExecuteTime": {
     "end_time": "2025-05-19T05:24:01.472294Z",
     "start_time": "2025-05-19T05:24:01.457649Z"
    }
   },
   "outputs": [],
   "source": [
    "# prepare the columns for release date/year\n",
    "movies_metadata['release_date'] = pd.to_datetime(movies_metadata['release_date'], errors='coerce')\n",
    "movies_metadata['release_year'] = movies_metadata['release_date'].dt.year"
   ]
  },
  {
   "cell_type": "code",
   "execution_count": null,
   "id": "0e73c815-6263-469b-93ce-9de2544f0b0e",
   "metadata": {},
   "outputs": [],
   "source": [
    "# prepare the data\n",
    "year_count_df = pd.DataFrame.from_dict(dict(movies_metadata.groupby('release_year').size()), orient='index', columns=['count'])\n",
    "year_vote_count_df = movies_metadata.groupby('release_year').agg({'vote_count': 'sum'})\n",
    "\n",
    "# draw the graph\n",
    "fig, ax1 = plt.subplots(figsize=(6, 4))\n",
    "\n",
    "# left Axis：Movie Count\n",
    "ax1.set_xlabel('Year')\n",
    "ax1.set_ylabel('Movie Count', color = 'tab:blue')\n",
    "ax1.plot(year_count_df.index, year_count_df.values, color = 'tab:blue')\n",
    "ax1.tick_params(axis='y', labelcolor='tab:blue')\n",
    "\n",
    "# right Axis: Movie Votes\n",
    "ax2 = ax1.twinx()\n",
    "ax2.set_ylabel('Total Votes', color = 'tab:red')\n",
    "ax2.plot(year_vote_count_df.index, year_vote_count_df.values / 20, color = 'tab:red')\n",
    "ax2.tick_params(axis='y', labelcolor='tab:red')\n",
    "ax2.yaxis.set_major_formatter(ticker.FuncFormatter(lambda x, _: f'{int(x * 20):}'))\n",
    "\n",
    "# show the graph\n",
    "plt.title('Yearly Movie Count and Total Votes')\n",
    "plt.tight_layout()\n",
    "plt.show()"
   ]
  },
  {
   "cell_type": "code",
   "execution_count": null,
   "id": "1398bad3-d01e-4c86-931f-8be3d696ff05",
   "metadata": {},
   "outputs": [],
   "source": []
  },
  {
   "cell_type": "code",
   "execution_count": null,
   "id": "9a5dc023-3592-4b9e-a2f1-caa94c348469",
   "metadata": {},
   "outputs": [],
   "source": [
    "# movie rating by year\n",
    "year_movie_rating_df = pd.DataFrame.from_dict(movies_metadata.groupby('release_year')['vote_average'].mean().to_dict(), orient='index', columns=['count'])\n",
    "\n",
    "# graph\n",
    "year_movie_rating_df.plot(kind='line', figsize=(6, 4), legend=False)\n",
    "plt.title('Movie Rating by Year')\n",
    "plt.xlabel('Year')\n",
    "plt.ylabel('Movie Rating')\n",
    "plt.tight_layout()\n",
    "plt.show()"
   ]
  },
  {
   "cell_type": "code",
   "execution_count": null,
   "id": "08aad053-0979-4ea5-9b20-8940b04f26c8",
   "metadata": {},
   "outputs": [],
   "source": []
  },
  {
   "cell_type": "code",
   "execution_count": null,
   "id": "75d8f22c-eeb6-4484-966b-a395a324d78d",
   "metadata": {},
   "outputs": [],
   "source": []
  },
  {
   "cell_type": "markdown",
   "id": "fa7d7790-a8bf-4cf9-a8b3-c494b6da5a6b",
   "metadata": {},
   "source": [
    "Save csv file"
   ]
  },
  {
   "cell_type": "code",
   "execution_count": null,
   "id": "92eb5c59-340b-41a9-8800-6582e5c785c1",
   "metadata": {},
   "outputs": [],
   "source": [
    "movies_metadata.to_csv('movies_cleaned.csv', index=False)"
   ]
  },
  {
   "cell_type": "code",
   "execution_count": null,
   "id": "67125bb2-91e7-452d-ab10-4e2f103046d7",
   "metadata": {},
   "outputs": [],
   "source": []
  },
  {
   "cell_type": "code",
   "execution_count": null,
   "id": "999d7b8b-f914-4078-b851-d3379ec39df0",
   "metadata": {},
   "outputs": [],
   "source": []
  }
 ],
 "metadata": {
  "kernelspec": {
   "display_name": "Python 3 (ipykernel)",
   "language": "python",
   "name": "python3"
  },
  "language_info": {
   "codemirror_mode": {
    "name": "ipython",
    "version": 3
   },
   "file_extension": ".py",
   "mimetype": "text/x-python",
   "name": "python",
   "nbconvert_exporter": "python",
   "pygments_lexer": "ipython3",
   "version": "3.12.7"
  }
 },
 "nbformat": 4,
 "nbformat_minor": 5
}
