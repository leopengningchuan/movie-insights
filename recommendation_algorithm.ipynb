{
 "cells": [
  {
   "cell_type": "code",
   "execution_count": null,
   "id": "b34f36fd-292b-407c-b792-bc5208e1c6cd",
   "metadata": {},
   "outputs": [],
   "source": [
    "# import packages\n",
    "import pandas as pd\n",
    "from datetime import datetime\n",
    "\n",
    "import ast\n",
    "\n",
    "import matplotlib.pyplot as plt\n",
    "import matplotlib.ticker as ticker"
   ]
  },
  {
   "cell_type": "code",
   "execution_count": null,
   "id": "aa454a48-36d4-48de-af1d-e99986991946",
   "metadata": {},
   "outputs": [],
   "source": [
    "# read the datasets\n",
    "orginal_data_path = 'original_data/'\n",
    "\n",
    "movies_cleaned = pd.read_csv('movies_cleaned.csv')\n",
    "ratings = pd.read_csv(orginal_data_path + 'ratings.csv')\n",
    "links = pd.read_csv(orginal_data_path + 'links.csv')\n",
    "# keywords = pd.read_csv(orginal_data_path + 'keywords.csv')\n",
    "# credits = pd.read_csv(orginal_data_path + 'credits.csv')\n",
    "\n",
    "ratings['date_time'] = pd.to_datetime(ratings['timestamp'], unit='s')"
   ]
  },
  {
   "cell_type": "code",
   "execution_count": null,
   "id": "d674a780-bdf3-41f5-81b9-d3d2c41445d5",
   "metadata": {},
   "outputs": [],
   "source": [
    "genre_columns = [col for col in movies_cleaned.columns if col.startswith('genre')]\n",
    "genre_columns = genre_columns[2:]"
   ]
  },
  {
   "cell_type": "markdown",
   "id": "739ec36f-abdf-432c-8d03-b4d5d921e871",
   "metadata": {},
   "source": [
    "Top Weighted Rating Movie Recommendation by Genre"
   ]
  },
  {
   "cell_type": "code",
   "execution_count": null,
   "id": "861060a2-e3d0-4ac5-9742-8e0a61d3cff9",
   "metadata": {},
   "outputs": [],
   "source": [
    "# weighted_rating = (v*R+m*C)/(v+m)\n",
    "# R = vote_average for a movie\n",
    "# v = vote_count for a movie\n",
    "# m = the threshold of vote_count for qualified movies\n",
    "# C = average vote_average for all movies"
   ]
  },
  {
   "cell_type": "code",
   "execution_count": null,
   "id": "272e2c11-1399-4d33-bca3-4138a8ab2d3e",
   "metadata": {},
   "outputs": [],
   "source": [
    "print('All movie count:', movies_cleaned.shape[0])\n",
    "threshold = 0.75\n",
    "qualify_movies = movies_cleaned[(movies_cleaned['vote_count'] > movies_cleaned['vote_count'].quantile(threshold)) & \\\n",
    "                                (movies_cleaned['vote_average'].notna())].copy()\n",
    "print('Threshold for voting_count:', movies_cleaned['vote_count'].quantile(threshold))\n",
    "print('Qualified movie count:', qualify_movies.shape[0])"
   ]
  },
  {
   "cell_type": "code",
   "execution_count": null,
   "id": "9ddd2eba-1d65-4873-a7fc-9aaa17a6684b",
   "metadata": {},
   "outputs": [],
   "source": [
    "m = movies_cleaned['vote_count'].quantile(threshold)\n",
    "C = movies_cleaned['vote_average'].mean()\n",
    "\n",
    "def weighted_rating(x, m, C):\n",
    "    v = x['vote_count']\n",
    "    R = x['vote_average']\n",
    "    return (v*R+m*C)/(v+m)\n",
    "\n",
    "qualify_movies['weighted_rating'] = qualify_movies.apply(lambda x: weighted_rating(x, m, C), axis=1)"
   ]
  },
  {
   "cell_type": "code",
   "execution_count": null,
   "id": "82247761-60bd-4402-8d29-b894811d463b",
   "metadata": {},
   "outputs": [],
   "source": [
    "# top 20 rating movies\n",
    "used_columns = ['imdb_id', 'original_title', 'vote_count', 'vote_average', 'weighted_rating']\n",
    "\n",
    "top_20_movies = qualify_movies.sort_values('weighted_rating', ascending = False).head(20)[used_columns].copy()\n",
    "top_20_movies"
   ]
  },
  {
   "cell_type": "code",
   "execution_count": null,
   "id": "53bc7e2f-e554-466b-bd71-0be0c1ff1074",
   "metadata": {},
   "outputs": [],
   "source": [
    "# top rating movies by genre\n",
    "top_10_genre_movies = pd.DataFrame()\n",
    "\n",
    "for col in genre_columns:\n",
    "\n",
    "    mv_df = qualify_movies[qualify_movies[col] == 1].sort_values('weighted_rating', ascending = False).head(10)[used_columns]\n",
    "    mv_df['genre'] = col.split('_')[1]\n",
    "\n",
    "    top_10_genre_movies = pd.concat([top_10_genre_movies, mv_df], ignore_index = True)\n",
    "\n",
    "top_10_genre_movies"
   ]
  },
  {
   "cell_type": "markdown",
   "id": "e5fa09df-0eec-4534-93fb-6259565d8328",
   "metadata": {},
   "source": [
    "Top Rating Movie Recommendation by the Genre of User Favorite Movies"
   ]
  },
  {
   "cell_type": "code",
   "execution_count": null,
   "id": "43d85b1f-65cb-419b-bcf3-e98fb3fef8a3",
   "metadata": {},
   "outputs": [],
   "source": [
    "user_id = 1"
   ]
  },
  {
   "cell_type": "code",
   "execution_count": null,
   "id": "7a15c42f-3345-4771-bd9a-f03a4baff326",
   "metadata": {},
   "outputs": [],
   "source": [
    "user_rating = ratings[ratings['userId'] == user_id].copy()\n",
    "user_rating['imdb_id'] = user_rating['movieId'].map(dict(zip(links['movieId'], links['imdbId'])))\n",
    "\n",
    "def format_tt_id(num):\n",
    "    return f\"tt{num:07d}\"\n",
    "\n",
    "user_rating['imdb_id'] = user_rating['imdb_id'].apply(lambda x: format_tt_id(x))\n",
    "\n",
    "user_rating = user_rating.sort_values('rating', ascending = False)\n",
    "\n",
    "\n",
    "user_rating = pd.merge(user_rating, movies_cleaned[['imdb_id', 'original_title'] + genre_columns], on='imdb_id', how='left')"
   ]
  },
  {
   "cell_type": "code",
   "execution_count": null,
   "id": "cbaa20b7-95e9-485e-9892-22d937f71a77",
   "metadata": {},
   "outputs": [],
   "source": [
    "high_user_rating = user_rating[user_rating['rating'] >=  user_rating['rating'].quantile(0.75)]"
   ]
  },
  {
   "cell_type": "code",
   "execution_count": null,
   "id": "9829982e-8c2c-4bf9-bc01-517d9e7dd807",
   "metadata": {},
   "outputs": [],
   "source": []
  },
  {
   "cell_type": "code",
   "execution_count": null,
   "id": "671c72d9-2e36-4e80-9dcc-c1e218a56eb8",
   "metadata": {},
   "outputs": [],
   "source": [
    "genre_sums = {}\n",
    "\n",
    "for col in genre_columns:\n",
    "    genre_sums[col] = high_user_rating[col].sum()\n",
    "\n",
    "top_n = 3\n",
    "sorted_vals = pd.Series(genre_sums).sort_values(ascending=False)\n",
    "\n",
    "cutoff = sorted_vals.iloc[top_n - 1] \n",
    "\n",
    "top3_genres = sorted_vals[sorted_vals >= cutoff]\n",
    "\n",
    "top3_genres"
   ]
  },
  {
   "cell_type": "code",
   "execution_count": null,
   "id": "9039b0f3-6562-4525-9d9e-ef9944b73b32",
   "metadata": {},
   "outputs": [],
   "source": [
    "test = pd.DataFrame(top3_genres, columns = ['origin'])\n",
    "test['weighted_avg'] = top3_genres / top3_genres.unique().sum()\n",
    "test['origin_count'] = test['origin'].map(test['origin'].value_counts())\n",
    "test['weighted_avg_split'] = test['weighted_avg'] / test['origin_count']\n",
    "test['movie_counts'] = test['weighted_avg_split'] * 10"
   ]
  },
  {
   "cell_type": "code",
   "execution_count": null,
   "id": "9faf82e0-cc36-4d94-a594-e5db2fce316f",
   "metadata": {},
   "outputs": [],
   "source": [
    "test"
   ]
  },
  {
   "cell_type": "code",
   "execution_count": null,
   "id": "5007562d-5df2-415d-a848-de88fa72ff29",
   "metadata": {},
   "outputs": [],
   "source": []
  },
  {
   "cell_type": "code",
   "execution_count": null,
   "id": "b0d7092d-76a5-412c-b133-0181ed24f84d",
   "metadata": {},
   "outputs": [],
   "source": []
  },
  {
   "cell_type": "code",
   "execution_count": null,
   "id": "f92a6608-a368-463e-974e-ea4def01758d",
   "metadata": {},
   "outputs": [],
   "source": []
  },
  {
   "cell_type": "code",
   "execution_count": null,
   "id": "079d0343-7eaa-4e9b-9a4f-54d52fa1f700",
   "metadata": {},
   "outputs": [],
   "source": []
  },
  {
   "cell_type": "code",
   "execution_count": null,
   "id": "a978bf11-54d1-45fb-bb51-6da431ae8c37",
   "metadata": {},
   "outputs": [],
   "source": []
  },
  {
   "cell_type": "code",
   "execution_count": null,
   "id": "88f1e4cf-b15f-4b9b-b84a-461c8e183a63",
   "metadata": {},
   "outputs": [],
   "source": []
  },
  {
   "cell_type": "code",
   "execution_count": null,
   "id": "681af944-753b-4a71-8671-fda24f82b3a5",
   "metadata": {},
   "outputs": [],
   "source": []
  },
  {
   "cell_type": "code",
   "execution_count": null,
   "id": "398d42bb-15fd-4910-a6eb-6af4654598fc",
   "metadata": {},
   "outputs": [],
   "source": []
  },
  {
   "cell_type": "code",
   "execution_count": null,
   "id": "47a6266c-68d0-4fd7-bd3b-0235e437a93d",
   "metadata": {},
   "outputs": [],
   "source": []
  },
  {
   "cell_type": "code",
   "execution_count": null,
   "id": "81354afb-24a8-4ded-bc97-61a1a4b6ac2b",
   "metadata": {},
   "outputs": [],
   "source": []
  },
  {
   "cell_type": "code",
   "execution_count": null,
   "id": "be0a8137-e1b3-4079-a863-509471e2a7ac",
   "metadata": {},
   "outputs": [],
   "source": []
  }
 ],
 "metadata": {
  "kernelspec": {
   "display_name": "Python 3 (ipykernel)",
   "language": "python",
   "name": "python3"
  },
  "language_info": {
   "codemirror_mode": {
    "name": "ipython",
    "version": 3
   },
   "file_extension": ".py",
   "mimetype": "text/x-python",
   "name": "python",
   "nbconvert_exporter": "python",
   "pygments_lexer": "ipython3",
   "version": "3.12.7"
  }
 },
 "nbformat": 4,
 "nbformat_minor": 5
}
