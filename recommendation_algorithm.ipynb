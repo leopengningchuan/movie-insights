{
 "cells": [
  {
   "cell_type": "code",
   "execution_count": null,
   "id": "b34f36fd-292b-407c-b792-bc5208e1c6cd",
   "metadata": {},
   "outputs": [],
   "source": [
    "# import packages\n",
    "import pandas as pd\n",
    "from datetime import datetime\n",
    "\n",
    "import ast\n",
    "\n",
    "import matplotlib.pyplot as plt\n",
    "import matplotlib.ticker as ticker"
   ]
  },
  {
   "cell_type": "code",
   "execution_count": null,
   "id": "aa454a48-36d4-48de-af1d-e99986991946",
   "metadata": {},
   "outputs": [],
   "source": [
    "# read the datasets\n",
    "orginal_data_path = 'original_data/'\n",
    "\n",
    "movies_metadata_cleaned = pd.read_csv('movies_cleaned.csv')\n",
    "ratings = pd.read_csv(orginal_data_path + 'ratings.csv')\n",
    "links = pd.read_csv(orginal_data_path + 'links.csv')\n",
    "# keywords = pd.read_csv(orginal_data_path + 'keywords.csv')\n",
    "# credits = pd.read_csv(orginal_data_path + 'credits.csv')\n",
    "\n",
    "ratings['date_time'] = pd.to_datetime(ratings['timestamp'], unit='s')"
   ]
  },
  {
   "cell_type": "code",
   "execution_count": null,
   "id": "d674a780-bdf3-41f5-81b9-d3d2c41445d5",
   "metadata": {},
   "outputs": [],
   "source": [
    "genre_columns = [col for col in movies_metadata_cleaned.columns if col.startswith('genre')]\n",
    "genre_columns = genre_columns[2:]\n",
    "genre_columns"
   ]
  },
  {
   "cell_type": "markdown",
   "id": "739ec36f-abdf-432c-8d03-b4d5d921e871",
   "metadata": {},
   "source": [
    "Top Rating Movie Recommendation by Genre"
   ]
  },
  {
   "cell_type": "code",
   "execution_count": null,
   "id": "1bdf3a2d-457b-48ab-be1f-ebfce937a08b",
   "metadata": {},
   "outputs": [],
   "source": [
    "effective_rating_movies = movies_metadata_cleaned[movies_metadata_cleaned['vote_count'] > movies_metadata_cleaned['vote_count'].median()]"
   ]
  },
  {
   "cell_type": "code",
   "execution_count": null,
   "id": "53bc7e2f-e554-466b-bd71-0be0c1ff1074",
   "metadata": {},
   "outputs": [],
   "source": [
    "used_columns = ['imdb_id', 'original_title', 'vote_average']\n",
    "\n",
    "top_rating_movies = pd.DataFrame()\n",
    "\n",
    "for col in genre_columns:\n",
    "\n",
    "    mv_df = effective_rating_movies[effective_rating_movies[col] == 1].sort_values('vote_average', ascending = False).head(10)[used_columns]\n",
    "    mv_df['genre'] = col.split('_')[1]\n",
    "\n",
    "    top_rating_movies = pd.concat([top_rating_movies, mv_df], ignore_index = True)"
   ]
  },
  {
   "cell_type": "code",
   "execution_count": null,
   "id": "ff18feee-8cec-41c2-8a16-2171b6d84bef",
   "metadata": {},
   "outputs": [],
   "source": [
    "top_rating_movies"
   ]
  },
  {
   "cell_type": "markdown",
   "id": "e5fa09df-0eec-4534-93fb-6259565d8328",
   "metadata": {},
   "source": [
    "Top Rating Movie Recommendation by the Genre of User Favorite Movies"
   ]
  },
  {
   "cell_type": "code",
   "execution_count": null,
   "id": "830265d1-a727-461d-8c99-3bad5c8470ce",
   "metadata": {},
   "outputs": [],
   "source": []
  },
  {
   "cell_type": "code",
   "execution_count": null,
   "id": "d0f9644a-1abf-49fc-afdc-d4e7d7c70356",
   "metadata": {},
   "outputs": [],
   "source": []
  },
  {
   "cell_type": "code",
   "execution_count": null,
   "id": "07efc2a1-19c0-4487-8d09-3460af71d543",
   "metadata": {},
   "outputs": [],
   "source": []
  },
  {
   "cell_type": "code",
   "execution_count": null,
   "id": "ca60f86b-ded3-4625-bbff-aeb187567529",
   "metadata": {},
   "outputs": [],
   "source": []
  },
  {
   "cell_type": "code",
   "execution_count": null,
   "id": "72bac7f8-a380-4b2f-a74d-dc26c8e51788",
   "metadata": {},
   "outputs": [],
   "source": []
  },
  {
   "cell_type": "code",
   "execution_count": null,
   "id": "43d85b1f-65cb-419b-bcf3-e98fb3fef8a3",
   "metadata": {},
   "outputs": [],
   "source": [
    "user_id = 1"
   ]
  },
  {
   "cell_type": "code",
   "execution_count": null,
   "id": "7a15c42f-3345-4771-bd9a-f03a4baff326",
   "metadata": {},
   "outputs": [],
   "source": [
    "user_rating = ratings[ratings['userId'] == user_id].copy()\n",
    "user_rating['imdb_id'] = user_rating['movieId'].map(dict(zip(links['movieId'], links['imdbId'])))\n",
    "\n",
    "def format_tt_id(num):\n",
    "    return f\"tt{num:07d}\"\n",
    "\n",
    "user_rating['imdb_id'] = user_rating['imdb_id'].apply(lambda x: format_tt_id(x))\n",
    "\n",
    "user_rating = user_rating.sort_values('rating', ascending = False)\n",
    "\n",
    "\n",
    "user_rating = pd.merge(user_rating, movies_metadata_cleaned[['imdb_id', 'original_title'] + genre_columns], on='imdb_id', how='left')"
   ]
  },
  {
   "cell_type": "code",
   "execution_count": null,
   "id": "cbaa20b7-95e9-485e-9892-22d937f71a77",
   "metadata": {},
   "outputs": [],
   "source": [
    "high_user_rating = user_rating[user_rating['rating'] >=  user_rating['rating'].quantile(0.75)]"
   ]
  },
  {
   "cell_type": "code",
   "execution_count": null,
   "id": "9829982e-8c2c-4bf9-bc01-517d9e7dd807",
   "metadata": {},
   "outputs": [],
   "source": []
  },
  {
   "cell_type": "code",
   "execution_count": null,
   "id": "671c72d9-2e36-4e80-9dcc-c1e218a56eb8",
   "metadata": {},
   "outputs": [],
   "source": [
    "genre_sums = {}\n",
    "\n",
    "for col in genre_columns:\n",
    "    genre_sums[col] = high_user_rating[col].sum()\n",
    "\n",
    "top_n = 3\n",
    "sorted_vals = pd.Series(genre_sums).sort_values(ascending=False)\n",
    "\n",
    "cutoff = sorted_vals.iloc[top_n - 1] \n",
    "\n",
    "top3_genres = sorted_vals[sorted_vals >= cutoff]\n",
    "\n",
    "top3_genres"
   ]
  },
  {
   "cell_type": "code",
   "execution_count": null,
   "id": "9039b0f3-6562-4525-9d9e-ef9944b73b32",
   "metadata": {},
   "outputs": [],
   "source": [
    "test = pd.DataFrame(top3_genres, columns = ['origin'])\n",
    "test['weighted_avg'] = top3_genres / top3_genres.unique().sum()\n",
    "test['origin_count'] = test['origin'].map(test['origin'].value_counts())\n",
    "test['weighted_avg_split'] = test['weighted_avg'] / test['origin_count']\n",
    "test['movie_counts'] = test['weighted_avg_split'] * 10"
   ]
  },
  {
   "cell_type": "code",
   "execution_count": null,
   "id": "9faf82e0-cc36-4d94-a594-e5db2fce316f",
   "metadata": {},
   "outputs": [],
   "source": [
    "test"
   ]
  },
  {
   "cell_type": "code",
   "execution_count": null,
   "id": "5007562d-5df2-415d-a848-de88fa72ff29",
   "metadata": {},
   "outputs": [],
   "source": []
  },
  {
   "cell_type": "code",
   "execution_count": null,
   "id": "b0d7092d-76a5-412c-b133-0181ed24f84d",
   "metadata": {},
   "outputs": [],
   "source": []
  },
  {
   "cell_type": "code",
   "execution_count": null,
   "id": "f92a6608-a368-463e-974e-ea4def01758d",
   "metadata": {},
   "outputs": [],
   "source": []
  },
  {
   "cell_type": "code",
   "execution_count": null,
   "id": "079d0343-7eaa-4e9b-9a4f-54d52fa1f700",
   "metadata": {},
   "outputs": [],
   "source": []
  },
  {
   "cell_type": "code",
   "execution_count": null,
   "id": "a978bf11-54d1-45fb-bb51-6da431ae8c37",
   "metadata": {},
   "outputs": [],
   "source": []
  },
  {
   "cell_type": "code",
   "execution_count": null,
   "id": "88f1e4cf-b15f-4b9b-b84a-461c8e183a63",
   "metadata": {},
   "outputs": [],
   "source": []
  },
  {
   "cell_type": "code",
   "execution_count": null,
   "id": "681af944-753b-4a71-8671-fda24f82b3a5",
   "metadata": {},
   "outputs": [],
   "source": []
  },
  {
   "cell_type": "code",
   "execution_count": null,
   "id": "398d42bb-15fd-4910-a6eb-6af4654598fc",
   "metadata": {},
   "outputs": [],
   "source": []
  },
  {
   "cell_type": "code",
   "execution_count": null,
   "id": "47a6266c-68d0-4fd7-bd3b-0235e437a93d",
   "metadata": {},
   "outputs": [],
   "source": []
  },
  {
   "cell_type": "code",
   "execution_count": null,
   "id": "81354afb-24a8-4ded-bc97-61a1a4b6ac2b",
   "metadata": {},
   "outputs": [],
   "source": []
  },
  {
   "cell_type": "code",
   "execution_count": null,
   "id": "be0a8137-e1b3-4079-a863-509471e2a7ac",
   "metadata": {},
   "outputs": [],
   "source": []
  }
 ],
 "metadata": {
  "kernelspec": {
   "display_name": "Python 3 (ipykernel)",
   "language": "python",
   "name": "python3"
  },
  "language_info": {
   "codemirror_mode": {
    "name": "ipython",
    "version": 3
   },
   "file_extension": ".py",
   "mimetype": "text/x-python",
   "name": "python",
   "nbconvert_exporter": "python",
   "pygments_lexer": "ipython3",
   "version": "3.12.7"
  }
 },
 "nbformat": 4,
 "nbformat_minor": 5
}
