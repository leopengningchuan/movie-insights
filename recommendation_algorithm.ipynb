{
 "cells": [
  {
   "cell_type": "code",
   "execution_count": null,
   "id": "b34f36fd-292b-407c-b792-bc5208e1c6cd",
   "metadata": {},
   "outputs": [],
   "source": [
    "# import packages\n",
    "import pandas as pd\n",
    "from datetime import datetime\n",
    "\n",
    "import ast\n",
    "\n",
    "from sklearn.metrics.pairwise import cosine_similarity\n",
    "from sklearn.preprocessing import MultiLabelBinarizer"
   ]
  },
  {
   "cell_type": "code",
   "execution_count": null,
   "id": "c74620cb-3415-4614-88b5-b68ac597ca93",
   "metadata": {},
   "outputs": [],
   "source": [
    "# read the datasets\n",
    "cleaned_data_path = 'cleaned_data/'\n",
    "\n",
    "movies_cleaned = pd.read_csv(cleaned_data_path + 'movies_cleaned.csv')\n",
    "ratings_cleaned = pd.read_csv(cleaned_data_path + 'ratings_cleaned.csv')\n",
    "ratings_small_cleaned = pd.read_csv(cleaned_data_path + 'ratings_small_cleaned.csv')\n",
    "\n",
    "genre_map = pd.read_excel(cleaned_data_path + 'movie_metadata_supporting.xlsx', sheet_name = 'genres')\n",
    "keyword_map = pd.read_excel(cleaned_data_path + 'movie_metadata_supporting.xlsx', sheet_name = 'keywords')"
   ]
  },
  {
   "cell_type": "code",
   "execution_count": null,
   "id": "df96bee7-3b65-4759-9a07-a27608d93837",
   "metadata": {},
   "outputs": [],
   "source": [
    "movies_cleaned['genre_list'] = movies_cleaned['genre_list'].apply(ast.literal_eval)\n",
    "\n",
    "# read the columns as list and map the dict\n",
    "def col_list_map(original_data, mapping_dict):\n",
    "    try:\n",
    "        final_list = []\n",
    "        for item in original_data:\n",
    "            final_list.append(mapping_dict[item])\n",
    "        return final_list\n",
    "    except:\n",
    "        return None\n",
    "\n",
    "# get dummy variables of genres\n",
    "movies_cleaned['genre_name_list'] = movies_cleaned['genre_list'].apply(lambda x: col_list_map(x, dict(zip(genre_map['id'], genre_map['name']))))\n",
    "\n",
    "mlb = MultiLabelBinarizer()\n",
    "genre_dummies = pd.DataFrame(\n",
    "    mlb.fit_transform(movies_cleaned['genre_name_list']),\n",
    "    columns = [f\"genre_{c}\" for c in mlb.classes_],\n",
    "    index = movies_cleaned.index\n",
    ")\n",
    "\n",
    "movies_cleaned = pd.concat([movies_cleaned, genre_dummies], axis=1)"
   ]
  },
  {
   "cell_type": "code",
   "execution_count": null,
   "id": "d674a780-bdf3-41f5-81b9-d3d2c41445d5",
   "metadata": {},
   "outputs": [],
   "source": [
    "genre_columns = [col for col in movies_cleaned.columns if col.startswith('genre') and 'name' not in col and 'list' not in col]"
   ]
  },
  {
   "cell_type": "code",
   "execution_count": null,
   "id": "01a39ad5-7075-4f18-a0c1-00497a0cad8c",
   "metadata": {},
   "outputs": [],
   "source": [
    "test_user_id = 42"
   ]
  },
  {
   "cell_type": "markdown",
   "id": "739ec36f-abdf-432c-8d03-b4d5d921e871",
   "metadata": {},
   "source": [
    "# Top Weighted Rating Recommendation"
   ]
  },
  {
   "cell_type": "code",
   "execution_count": null,
   "id": "861060a2-e3d0-4ac5-9742-8e0a61d3cff9",
   "metadata": {},
   "outputs": [],
   "source": [
    "# weighted_rating = (v*R+m*C)/(v+m)\n",
    "# R = vote_average for a movie\n",
    "# v = vote_count for a movie\n",
    "# m = the threshold of vote_count for qualified movies\n",
    "# C = average vote_average for all movies"
   ]
  },
  {
   "cell_type": "code",
   "execution_count": null,
   "id": "272e2c11-1399-4d33-bca3-4138a8ab2d3e",
   "metadata": {},
   "outputs": [],
   "source": [
    "print('All movie count:', movies_cleaned.shape[0])\n",
    "threshold = 0.75\n",
    "qualify_movies = movies_cleaned[(movies_cleaned['vote_count'] > movies_cleaned['vote_count'].quantile(threshold)) & \\\n",
    "                                (movies_cleaned['vote_average'].notna())].copy()\n",
    "print('Threshold for voting_count:', movies_cleaned['vote_count'].quantile(threshold))\n",
    "print('Qualified movie count:', qualify_movies.shape[0])"
   ]
  },
  {
   "cell_type": "code",
   "execution_count": null,
   "id": "9ddd2eba-1d65-4873-a7fc-9aaa17a6684b",
   "metadata": {},
   "outputs": [],
   "source": [
    "m = movies_cleaned['vote_count'].quantile(threshold)\n",
    "C = movies_cleaned['vote_average'].mean()\n",
    "\n",
    "def weighted_rating(x, m, C):\n",
    "    v = x['vote_count']\n",
    "    R = x['vote_average']\n",
    "    return (v*R+m*C)/(v+m)\n",
    "\n",
    "qualify_movies['weighted_rating'] = qualify_movies.apply(lambda x: weighted_rating(x, m, C), axis=1)"
   ]
  },
  {
   "cell_type": "code",
   "execution_count": null,
   "id": "82247761-60bd-4402-8d29-b894811d463b",
   "metadata": {},
   "outputs": [],
   "source": [
    "# top 20 rating movies\n",
    "used_columns = ['imdb_id', 'title', 'vote_count', 'vote_average']\n",
    "\n",
    "top_20_movies = qualify_movies.sort_values('weighted_rating', ascending = False).head(20)[used_columns + ['weighted_rating']].copy().reset_index(drop = True)\n",
    "top_20_movies"
   ]
  },
  {
   "cell_type": "code",
   "execution_count": null,
   "id": "53bc7e2f-e554-466b-bd71-0be0c1ff1074",
   "metadata": {
    "scrolled": true
   },
   "outputs": [],
   "source": [
    "# top rating movies by genre\n",
    "top_10_genre_movies = pd.DataFrame()\n",
    "\n",
    "for col in genre_columns:\n",
    "\n",
    "    mv_df = qualify_movies[qualify_movies[col] == 1].sort_values('weighted_rating', ascending = False).head(10)[used_columns + ['weighted_rating']]\n",
    "    mv_df['genre'] = col.split('_')[1]\n",
    "\n",
    "    top_10_genre_movies = pd.concat([top_10_genre_movies, mv_df], ignore_index = True)\n",
    "\n",
    "top_10_genre_movies"
   ]
  },
  {
   "cell_type": "markdown",
   "id": "e5fa09df-0eec-4534-93fb-6259565d8328",
   "metadata": {},
   "source": [
    "# Recommendation by Favorite Genre"
   ]
  },
  {
   "cell_type": "code",
   "execution_count": null,
   "id": "45108080-043a-4cc7-9828-50e1ac949054",
   "metadata": {},
   "outputs": [],
   "source": [
    "user_rating = ratings_cleaned[ratings_cleaned['user_id'] == test_user_id].copy()\n",
    "user_rating = user_rating.sort_values('rating', ascending = False)\n",
    "user_rating = pd.merge(user_rating, movies_cleaned[['imdb_id', 'title'] + genre_columns], on = 'imdb_id', how='left')"
   ]
  },
  {
   "cell_type": "code",
   "execution_count": null,
   "id": "858250db-944f-45fd-a83a-116858d634fa",
   "metadata": {},
   "outputs": [],
   "source": [
    "# find the genres of the favorite movies\n",
    "fav_genre = []\n",
    "for genre in genre_columns:\n",
    "    if user_rating[user_rating['rating'] == user_rating['rating'].max()][genre].sum() > 0:\n",
    "        fav_genre.append(genre)\n",
    "\n",
    "fav_genre"
   ]
  },
  {
   "cell_type": "code",
   "execution_count": null,
   "id": "1a521ec7-5e11-4d2c-937d-e816a1a64dde",
   "metadata": {},
   "outputs": [],
   "source": [
    "# recommendations\n",
    "qualify_movies[(qualify_movies[fav_genre].any(axis=1)) & (~qualify_movies['imdb_id'].isin(user_rating['imdb_id']))].\\\n",
    "            sort_values('weighted_rating', ascending = False).head(10)[used_columns + ['weighted_rating']]"
   ]
  },
  {
   "cell_type": "markdown",
   "id": "dd2d8995-5018-45f9-87ee-815b36b79903",
   "metadata": {},
   "source": [
    "# Collaborative Filtering"
   ]
  },
  {
   "cell_type": "code",
   "execution_count": null,
   "id": "32a45df9-e7c3-4b25-9bd8-186af10e4b87",
   "metadata": {},
   "outputs": [],
   "source": [
    "# create the user similarity matrix and get the top 10 similar users\n",
    "\n",
    "rating_matrix = ratings_small_cleaned.pivot_table(index='user_id', columns='imdb_id', values='rating')\n",
    "\n",
    "user_sim_matrix = pd.DataFrame(cosine_similarity(rating_matrix.fillna(0)), \n",
    "                               index = rating_matrix.index, \n",
    "                               columns = rating_matrix.index)\n",
    "\n",
    "sim_users = user_sim_matrix[test_user_id].sort_values(ascending = False)[1:11].index"
   ]
  },
  {
   "cell_type": "code",
   "execution_count": null,
   "id": "9877cfdc-7c50-4ba3-b07a-5f8bd2cbe933",
   "metadata": {},
   "outputs": [],
   "source": [
    "# calculate the weighed average of the movie rating\n",
    "weighted_sum = rating_matrix[rating_matrix.index.isin(sim_users)].\\\n",
    "               mul(user_sim_matrix.loc[user_sim_matrix.index.isin(sim_users), test_user_id], axis=0)\n",
    "\n",
    "total_sim = rating_matrix[rating_matrix.index.isin(sim_users)].copy()\n",
    "total_sim[total_sim.notna()] = 1\n",
    "total_sim = total_sim.mul(user_sim_matrix.loc[user_sim_matrix.index.isin(sim_users), test_user_id], axis=0)\n",
    "\n",
    "weighted_score = (weighted_sum.sum() / total_sim.sum()).round(4)\n",
    "\n",
    "# combine weighted score with average similarity\n",
    "score_sim = pd.DataFrame({'weighted_score': weighted_score, 'avg_sim': total_sim.mean()})"
   ]
  },
  {
   "cell_type": "code",
   "execution_count": null,
   "id": "4c79d7d6-582d-4e6f-b265-b13d24548c56",
   "metadata": {},
   "outputs": [],
   "source": [
    "# remove watched movies\n",
    "test_id_watched = ratings_small_cleaned[ratings_small_cleaned['user_id'] == test_user_id]['imdb_id']\n",
    "score_sim = score_sim[~score_sim.index.isin(test_id_watched)].sort_values(['weighted_score', 'avg_sim'], ascending = [False, False])"
   ]
  },
  {
   "cell_type": "code",
   "execution_count": null,
   "id": "babf48ba-fb47-4094-a852-849c887381c4",
   "metadata": {},
   "outputs": [],
   "source": [
    "# get the top 10 score movies\n",
    "cf_recommend_10 = score_sim.head(10).index\n",
    "\n",
    "\n",
    "cf_recommend_10_df = movies_cleaned[movies_cleaned['imdb_id'].isin(cf_recommend_10)][used_columns].copy().merge(\n",
    "                        score_sim[~score_sim.index.isin(test_id_watched)],\n",
    "                        how='left',\n",
    "                        left_on='imdb_id',\n",
    "                        right_index=True).\\\n",
    "                        sort_values(['weighted_score', 'avg_sim', 'vote_average'], ascending = [False, False, False]).reset_index(drop = True)\n",
    "\n",
    "cf_recommend_10_df"
   ]
  },
  {
   "cell_type": "code",
   "execution_count": null,
   "id": "b92c0bc0-3f3a-4a00-ba9d-2a02f8732496",
   "metadata": {},
   "outputs": [],
   "source": []
  }
 ],
 "metadata": {
  "kernelspec": {
   "display_name": "Python 3 (ipykernel)",
   "language": "python",
   "name": "python3"
  },
  "language_info": {
   "codemirror_mode": {
    "name": "ipython",
    "version": 3
   },
   "file_extension": ".py",
   "mimetype": "text/x-python",
   "name": "python",
   "nbconvert_exporter": "python",
   "pygments_lexer": "ipython3",
   "version": "3.12.7"
  }
 },
 "nbformat": 4,
 "nbformat_minor": 5
}
